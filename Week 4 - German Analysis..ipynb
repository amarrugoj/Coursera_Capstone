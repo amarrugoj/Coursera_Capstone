{
    "nbformat_minor": 1, 
    "cells": [
        {
            "execution_count": 1, 
            "cell_type": "code", 
            "metadata": {}, 
            "outputs": [
                {
                    "output_type": "stream", 
                    "name": "stdout", 
                    "text": "Pandas,Numpy & BeatufiulSoup have been imported!\n"
                }
            ], 
            "source": "import pandas as pd\nimport numpy as np\nimport requests\nfrom bs4 import BeautifulSoup\nfrom geopy.geocoders import Nominatim \nimport folium as f\nprint ('Pandas,Numpy & BeatufiulSoup have been imported!')"
        }, 
        {
            "execution_count": 2, 
            "cell_type": "code", 
            "metadata": {}, 
            "outputs": [], 
            "source": "sourceweb = requests.get('https://en.wikipedia.org/wiki/List_of_postal_codes_in_Germany').text\nsoup = BeautifulSoup(sourceweb, 'html.parser')"
        }, 
        {
            "execution_count": 5, 
            "cell_type": "code", 
            "metadata": {}, 
            "outputs": [], 
            "source": "RegionList = []\nAreaList = []\nfor row in soup.find('table').find_all('tr'):\n    cells = row.find_all('td')\n    if(len(cells) > 0):\n        RegionList.append(cells[0].text)\n        AreaList.append(cells[1].text.rstrip('\\n'))\n        "
        }, 
        {
            "execution_count": 6, 
            "cell_type": "code", 
            "metadata": {}, 
            "outputs": [
                {
                    "execution_count": 6, 
                    "metadata": {}, 
                    "data": {
                        "text/html": "<div>\n<style scoped>\n    .dataframe tbody tr th:only-of-type {\n        vertical-align: middle;\n    }\n\n    .dataframe tbody tr th {\n        vertical-align: top;\n    }\n\n    .dataframe thead th {\n        text-align: right;\n    }\n</style>\n<table border=\"1\" class=\"dataframe\">\n  <thead>\n    <tr style=\"text-align: right;\">\n      <th></th>\n      <th>Area</th>\n      <th>Region #</th>\n    </tr>\n  </thead>\n  <tbody>\n    <tr>\n      <th>0</th>\n      <td>This article does not cite any sources. Please...</td>\n      <td></td>\n    </tr>\n  </tbody>\n</table>\n</div>", 
                        "text/plain": "                                                Area Region #\n0  This article does not cite any sources. Please...         "
                    }, 
                    "output_type": "execute_result"
                }
            ], 
            "source": "german_codes = [('Region #', RegionList),\n                ('Area',AreaList)]\ngerman_df = pd.DataFrame.from_dict(dict(german_codes))\ngerman_df.head()"
        }, 
        {
            "execution_count": null, 
            "cell_type": "code", 
            "metadata": {}, 
            "outputs": [], 
            "source": ""
        }
    ], 
    "metadata": {
        "kernelspec": {
            "display_name": "Python 3.5", 
            "name": "python3", 
            "language": "python"
        }, 
        "language_info": {
            "mimetype": "text/x-python", 
            "nbconvert_exporter": "python", 
            "version": "3.5.5", 
            "name": "python", 
            "file_extension": ".py", 
            "pygments_lexer": "ipython3", 
            "codemirror_mode": {
                "version": 3, 
                "name": "ipython"
            }
        }
    }, 
    "nbformat": 4
}